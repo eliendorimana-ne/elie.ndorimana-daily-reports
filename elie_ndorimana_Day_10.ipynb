{
 "cells": [
  {
   "cell_type": "markdown",
   "id": "f5f1160d-a008-42cb-b69c-41290543b86a",
   "metadata": {},
   "source": [
    "### Deby"
   ]
  },
  {
   "cell_type": "code",
   "execution_count": 13,
   "id": "1d7cece6-07e7-422b-8fca-819774f527fd",
   "metadata": {},
   "outputs": [],
   "source": [
    "# Example of Raising an Exception\n",
    "def validate_age(age):\n",
    "    if age < 0:\n",
    "        raise ValueError(\"Age cannot be negative\")\n",
    "    print(f\"Age: {age}\")"
   ]
  },
  {
   "cell_type": "code",
   "execution_count": 14,
   "id": "0ba3cd9c-2455-4b7e-8218-7ea7d1d59284",
   "metadata": {},
   "outputs": [
    {
     "name": "stdout",
     "output_type": "stream",
     "text": [
      "Age cannot be negative\n"
     ]
    }
   ],
   "source": [
    "try:\n",
    "    validate_age(-4)\n",
    "except ValueError as e:\n",
    "    print(e)"
   ]
  },
  {
   "cell_type": "code",
   "execution_count": 15,
   "id": "a4f68b0e-c349-49bb-9a38-5c4ff1c30d42",
   "metadata": {},
   "outputs": [
    {
     "name": "stdout",
     "output_type": "stream",
     "text": [
      "Age: 5\n"
     ]
    }
   ],
   "source": [
    "try:\n",
    "    validate_age(5)\n",
    "except ValueError as e:\n",
    "    print(e)"
   ]
  },
  {
   "cell_type": "code",
   "execution_count": 26,
   "id": "c0890b86-2660-4ea9-9693-f9475ca23849",
   "metadata": {},
   "outputs": [],
   "source": [
    "def key_not_found(key):\n",
    "    print(f\"⚠️ Key '{key}' not found in the dictionary!\")\n",
    "\n",
    "def handle_value(value):\n",
    "    print(f\"✅ Retrieved value: {value}\")"
   ]
  },
  {
   "cell_type": "code",
   "execution_count": 31,
   "id": "5c68a20b-0fdd-4362-8468-ad04be951762",
   "metadata": {},
   "outputs": [
    {
     "name": "stdout",
     "output_type": "stream",
     "text": [
      "✅ Retrieved value: 90\n"
     ]
    }
   ],
   "source": [
    "students = {\"Alice\": 85, \"Bob-1\": 92, \"Charlie\": 78, \"Elie\": 90}\n",
    "\n",
    "key = \"Elie\"  # This key does not exist in the dictionary\n",
    "\n",
    "try:\n",
    "    value = students[key]\n",
    "except KeyError:\n",
    "    key_not_found(key)\n",
    "else:\n",
    "    handle_value(value)"
   ]
  },
  {
   "cell_type": "code",
   "execution_count": 29,
   "id": "59c53c5e-d142-42e5-b6ed-5fad0be9ea1c",
   "metadata": {},
   "outputs": [
    {
     "name": "stdout",
     "output_type": "stream",
     "text": [
      "⚠️ Key 'Bob' not found in the dictionary!\n"
     ]
    }
   ],
   "source": [
    "# If you change key = \"Bob\", the output becomes:\n",
    "\n",
    "key = \"Bob\"  # This key does not exist in the dictionary\n",
    "\n",
    "try:\n",
    "    value = students[key]\n",
    "except KeyError:\n",
    "    key_not_found(key)\n",
    "else:\n",
    "    handle_value(value)"
   ]
  },
  {
   "cell_type": "code",
   "execution_count": 36,
   "id": "8f302c7e-4469-41e5-b60f-2968ed425ad5",
   "metadata": {},
   "outputs": [
    {
     "name": "stdout",
     "output_type": "stream",
     "text": [
      "Multiplication!\n",
      "Always executed!\n"
     ]
    }
   ],
   "source": [
    "try:\n",
    "    result = 10 * (-2)\n",
    "except ZeroDivisionError:\n",
    "    print(\"You can't divide by zero!\")\n",
    "else:\n",
    "    print(\"Multiplication!\")\n",
    "finally:\n",
    "    print(\"Always executed!\")"
   ]
  },
  {
   "cell_type": "code",
   "execution_count": 38,
   "id": "ff7b2976-2822-4639-a331-3e4ed5936949",
   "metadata": {},
   "outputs": [
    {
     "name": "stdout",
     "output_type": "stream",
     "text": [
      "Division successful!\n",
      "Always executed!\n"
     ]
    }
   ],
   "source": [
    "try:\n",
    "    result = 10 / (-5)\n",
    "except ZeroDivisionError:\n",
    "    print(\"You can't divide by zero!\")\n",
    "else:\n",
    "    print(\"Division successful!\")\n",
    "finally:\n",
    "    print(\"Always executed!\")"
   ]
  },
  {
   "cell_type": "code",
   "execution_count": 42,
   "id": "f205f68c-3cc5-457b-a937-aa4c70aa852a",
   "metadata": {},
   "outputs": [
    {
     "name": "stdout",
     "output_type": "stream",
     "text": [
      "Multiplication!\n",
      "Always executed!\n"
     ]
    }
   ],
   "source": [
    "try:\n",
    "    result = (10 * 0)\n",
    "except ZeroDivisionError:\n",
    "    print(\"You can't divide by zero!\")\n",
    "else:\n",
    "    print(\"Multiplication!\")\n",
    "finally:\n",
    "    print(\"Always executed!\")"
   ]
  },
  {
   "cell_type": "code",
   "execution_count": 45,
   "id": "bf5166d6-36dc-4d9b-9f93-2771ce5a3903",
   "metadata": {},
   "outputs": [
    {
     "name": "stdout",
     "output_type": "stream",
     "text": [
      "Multiplication!\n",
      "Always executed!\n"
     ]
    }
   ],
   "source": [
    "try:\n",
    "    result = 10 * \"2a\"\n",
    "except ZeroDivisionError:\n",
    "    print(\"You can't divide by zero!\")\n",
    "else:\n",
    "    print(\"Multiplication!\")\n",
    "finally:\n",
    "    print(\"Always executed!\")"
   ]
  },
  {
   "cell_type": "code",
   "execution_count": 51,
   "id": "93dc45a4-5be2-43e8-af7e-c6d6a7aebec5",
   "metadata": {},
   "outputs": [
    {
     "name": "stdin",
     "output_type": "stream",
     "text": [
      "Enter a number:  -3\n",
      "Enter another number:  9\n"
     ]
    },
    {
     "name": "stdout",
     "output_type": "stream",
     "text": [
      "✅ Division successful! The result is -27\n",
      "🔁 Execution complete — thank you!\n"
     ]
    }
   ],
   "source": [
    "try:\n",
    "    num1 = int(input(\"Enter a number: \"))\n",
    "    num2 = int(input(\"Enter another number: \"))\n",
    "    result = num1 * num2\n",
    "except ZeroDivisionError:\n",
    "    print(\"❌ You can't divide by zero!\")\n",
    "except ValueError:\n",
    "    print(\"⚠️ Please enter valid numeric values!\")\n",
    "else:\n",
    "    print(f\"✅ Division successful! The result is {result}\")\n",
    "finally:\n",
    "    print(\"🔁 Execution complete — thank you!\")\n"
   ]
  },
  {
   "cell_type": "code",
   "execution_count": 55,
   "id": "12aa61b0-0693-43ac-8b06-19378a184efc",
   "metadata": {},
   "outputs": [],
   "source": [
    "def func1(a, b):\n",
    "    return a / b\n",
    "\n",
    "def func2(x):\n",
    "    a = 2\n",
    "    b = 10\n",
    "    return func1(a, b)"
   ]
  },
  {
   "cell_type": "code",
   "execution_count": 63,
   "id": "ee9be526-e249-4c41-921c-8995cf55d596",
   "metadata": {},
   "outputs": [
    {
     "data": {
      "text/plain": [
       "0.4"
      ]
     },
     "execution_count": 63,
     "metadata": {},
     "output_type": "execute_result"
    }
   ],
   "source": [
    "func2(1)"
   ]
  },
  {
   "cell_type": "code",
   "execution_count": null,
   "id": "ddc0d91c-d3ff-4aff-871b-c64c5aaa7a90",
   "metadata": {},
   "outputs": [],
   "source": []
  }
 ],
 "metadata": {
  "kernelspec": {
   "display_name": "Python 3 (ipykernel)",
   "language": "python",
   "name": "python3"
  },
  "language_info": {
   "codemirror_mode": {
    "name": "ipython",
    "version": 3
   },
   "file_extension": ".py",
   "mimetype": "text/x-python",
   "name": "python",
   "nbconvert_exporter": "python",
   "pygments_lexer": "ipython3",
   "version": "3.12.4"
  }
 },
 "nbformat": 4,
 "nbformat_minor": 5
}
