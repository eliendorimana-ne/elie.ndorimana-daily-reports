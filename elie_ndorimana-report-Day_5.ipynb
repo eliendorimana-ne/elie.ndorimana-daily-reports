{
 "cells": [
  {
   "cell_type": "code",
   "execution_count": 1,
   "id": "02156712-8a84-416f-9122-90199c82fdc2",
   "metadata": {},
   "outputs": [],
   "source": [
    "my_list = [23, 29, 35]"
   ]
  },
  {
   "cell_type": "code",
   "execution_count": 9,
   "id": "881a1830-aa6f-4b5d-a289-4f3472a4c080",
   "metadata": {},
   "outputs": [],
   "source": [
    "x = [1, 5, 8, 10, 4, 50, 8, 10, 12, 14, 25] # List consisting only of numbers\n",
    "y = [\"Olivier\", \"ENGEL\", \"Strasbourg\", \"Dr.Elie\", \"Dr.Esther\"] # List consisting only of characters\n",
    "z = [1, \"Olivier\", 5, 8, \"ENGEL\", 10, 4, 50, \"Strasbourg\"] # List consisting of both numbers and characters"
   ]
  },
  {
   "cell_type": "code",
   "execution_count": 10,
   "id": "7e650443-5c31-4bb8-943a-ca3f79e12ae5",
   "metadata": {},
   "outputs": [
    {
     "name": "stdout",
     "output_type": "stream",
     "text": [
      "[1, 5, 8, 10, 4, 50, 8, 10, 12, 14, 25] ['Olivier', 'ENGEL', 'Strasbourg', 'Dr.Elie', 'Dr.Esther'] [1, 'Olivier', 5, 8, 'ENGEL', 10, 4, 50, 'Strasbourg']\n"
     ]
    }
   ],
   "source": [
    "print(x,y,z)"
   ]
  },
  {
   "cell_type": "code",
   "execution_count": 11,
   "id": "f506e7e2-8625-4997-b283-694e366e5aca",
   "metadata": {},
   "outputs": [
    {
     "name": "stdout",
     "output_type": "stream",
     "text": [
      "[1, 2, 3, 4, 5, 6, 7, 8, 9, 10, 11, 12, 13, 14, 15, 16, 17, 18, 19, 20, 21, 22, 23, 24, 25, 26, 27, 28, 29, 30, 31, 32, 33, 34, 35, 36, 37, 38, 39, 40, 41, 42, 43, 44, 45, 46, 47, 48, 49, 50, 51, 52, 53, 54, 55, 56, 57, 58, 59, 60, 61, 62, 63, 64, 65, 66, 67, 68, 69, 70, 71, 72, 73, 74, 75, 76, 77, 78, 79, 80, 81, 82, 83, 84, 85, 86, 87, 88, 89, 90, 91, 92, 93, 94, 95, 96, 97, 98, 99]\n"
     ]
    }
   ],
   "source": [
    "  x = list(range(1, 100))\n",
    "  print(x) "
   ]
  },
  {
   "cell_type": "code",
   "execution_count": 13,
   "id": "1022a49d-4b93-4703-993d-7106a24853f6",
   "metadata": {},
   "outputs": [
    {
     "name": "stdout",
     "output_type": "stream",
     "text": [
      "(1, 5, 8, 10, 4, 50, 8, 10, 12, 15, 18, 19, 20) ('Olivier', 'ENGEL', 'Strasbourg', 'BBG', 'Belyse', 'Alliance', 'Muhanzi', 'Walter') (1, 'Olivier', 5, 8, 'ENGEL', 10, 4, 50, 'Strasbourg', 10, 12, 'Dr.Elie', 'Mireille')\n"
     ]
    }
   ],
   "source": [
    "x = (1, 5, 8, 10, 4, 50, 8, 10, 12, 15, 18, 19, 20) \n",
    "y = (\"Olivier\", \"ENGEL\", \"Strasbourg\", \"BBG\", \"Belyse\", \"Alliance\", \"Muhanzi\", \"Walter\") \n",
    "z = (1, \"Olivier\", 5, 8, \"ENGEL\", 10, 4, 50, \"Strasbourg\",10, 12, \"Dr.Elie\", \"Mireille\")\n",
    "\n",
    "print(x,y,z)\n"
   ]
  },
  {
   "cell_type": "code",
   "execution_count": 16,
   "id": "277087c7-07c1-402f-b00c-cd944c8339de",
   "metadata": {},
   "outputs": [
    {
     "name": "stdout",
     "output_type": "stream",
     "text": [
      "{1, 50, 4, 5, 8, 10} {'Elie', 'Hirwa', 'ENGEL', 'Muhanzi', 'Olivier'} {1, 4, 5, 8, 10, 'Strasbourg', 50, 'ENGEL', 'Olivier'}\n"
     ]
    }
   ],
   "source": [
    "x = {1, 5, 8, 10, 4, 10, 50, 8} \n",
    "y = {\"Olivier\", \"ENGEL\", \"Hirwa\", \"Elie\", \"Muhanzi\", \"Elie\"} \n",
    "z = {1, \"Olivier\", 5, 8, \"ENGEL\", 10, 4, 50, \"Strasbourg\", 10} \n",
    "\n",
    "print(x,y,z)"
   ]
  },
  {
   "cell_type": "code",
   "execution_count": 17,
   "id": "d0a4eb16-4927-43ca-9fbc-1f068b38a739",
   "metadata": {},
   "outputs": [
    {
     "name": "stdout",
     "output_type": "stream",
     "text": [
      "{'name': 'Jean', 'weight': 70, 'height': 1.75} {'Jean': [25, 70, 1.75], 'Paul': [30, 65, 1.8], 'Pierre': [35, 75, 1.65]}\n"
     ]
    }
   ],
   "source": [
    "x = {'name': 'Jean', 'weight': 70, 'height': 1.75} \n",
    "y = {'Jean': [25, 70, 1.75], 'Paul': [30, 65, 1.80], 'Pierre': [35, 75, 1.65]} \n",
    "\n",
    "print(x,y)\n"
   ]
  },
  {
   "cell_type": "code",
   "execution_count": 19,
   "id": "a9f7b780-4b17-4af4-a17e-bb40f5702b11",
   "metadata": {},
   "outputs": [
    {
     "name": "stdout",
     "output_type": "stream",
     "text": [
      "[-2.0, -1.0, 0.0, 1.0, 2.0]\n",
      "[-1.0, -0.5, 0.0, 0.5, 1.0]\n"
     ]
    }
   ],
   "source": [
    "Walter = [-2.0, -1.0, 0.0, 1.0, 2.0]\n",
    "Yosamu = [-1.0, -0.5, 0.0, 0.5, 1.0]\n",
    "\n",
    "print(Walter)\n",
    "print(Yosamu)"
   ]
  },
  {
   "cell_type": "code",
   "execution_count": 20,
   "id": "06640862-b90d-4d03-8eba-0cbb57f1224b",
   "metadata": {},
   "outputs": [
    {
     "name": "stdout",
     "output_type": "stream",
     "text": [
      "<class 'list'>\n"
     ]
    }
   ],
   "source": [
    "print(type(Walter))"
   ]
  },
  {
   "cell_type": "code",
   "execution_count": 21,
   "id": "151831fc-261a-478e-b910-62462cb127ce",
   "metadata": {},
   "outputs": [
    {
     "name": "stdout",
     "output_type": "stream",
     "text": [
      "<class 'list'>\n"
     ]
    }
   ],
   "source": [
    "print(type(Yosamu))"
   ]
  },
  {
   "cell_type": "code",
   "execution_count": 23,
   "id": "b395be5b-fbd7-437e-aa2b-92634b8e2915",
   "metadata": {},
   "outputs": [
    {
     "name": "stdout",
     "output_type": "stream",
     "text": [
      "Help on NoneType object:\n",
      "\n",
      "class NoneType(object)\n",
      " |  Methods defined here:\n",
      " |\n",
      " |  __bool__(self, /)\n",
      " |      True if self else False\n",
      " |\n",
      " |  __eq__(self, value, /)\n",
      " |      Return self==value.\n",
      " |\n",
      " |  __ge__(self, value, /)\n",
      " |      Return self>=value.\n",
      " |\n",
      " |  __gt__(self, value, /)\n",
      " |      Return self>value.\n",
      " |\n",
      " |  __hash__(self, /)\n",
      " |      Return hash(self).\n",
      " |\n",
      " |  __le__(self, value, /)\n",
      " |      Return self<=value.\n",
      " |\n",
      " |  __lt__(self, value, /)\n",
      " |      Return self<value.\n",
      " |\n",
      " |  __ne__(self, value, /)\n",
      " |      Return self!=value.\n",
      " |\n",
      " |  __repr__(self, /)\n",
      " |      Return repr(self).\n",
      " |\n",
      " |  ----------------------------------------------------------------------\n",
      " |  Static methods defined here:\n",
      " |\n",
      " |  __new__(*args, **kwargs)\n",
      " |      Create and return a new object.  See help(type) for accurate signature.\n",
      "\n"
     ]
    }
   ],
   "source": [
    "help(Walter.sort())"
   ]
  },
  {
   "cell_type": "code",
   "execution_count": 27,
   "id": "aed920bd-a4ba-4ab3-919d-61f04409ac03",
   "metadata": {},
   "outputs": [
    {
     "data": {
      "text/plain": [
       "[-1.0, -0.5, 0.0, 0.5, 1.0]"
      ]
     },
     "execution_count": 27,
     "metadata": {},
     "output_type": "execute_result"
    }
   ],
   "source": [
    "Yosamu"
   ]
  },
  {
   "cell_type": "code",
   "execution_count": 26,
   "id": "f7ee9b05-1e67-43e2-b89c-939dfa8c37ea",
   "metadata": {},
   "outputs": [],
   "source": [
    "Yosamu.sort()"
   ]
  },
  {
   "cell_type": "code",
   "execution_count": 29,
   "id": "08812093-9ad1-4df3-985d-dd6db5fe09e7",
   "metadata": {},
   "outputs": [],
   "source": [
    "a=[5,4,3,7,1]"
   ]
  },
  {
   "cell_type": "code",
   "execution_count": 31,
   "id": "af1a8e6d-ff77-43cb-8e34-5aa5dae8588b",
   "metadata": {},
   "outputs": [],
   "source": [
    "a.sort()"
   ]
  },
  {
   "cell_type": "code",
   "execution_count": 32,
   "id": "e7270640-4149-4c5a-80f8-893d497b56cf",
   "metadata": {},
   "outputs": [
    {
     "data": {
      "text/plain": [
       "[1, 3, 4, 5, 7]"
      ]
     },
     "execution_count": 32,
     "metadata": {},
     "output_type": "execute_result"
    }
   ],
   "source": [
    "a"
   ]
  },
  {
   "cell_type": "code",
   "execution_count": 34,
   "id": "650f6cd3-70d8-4f2f-bc55-332f9e258fde",
   "metadata": {},
   "outputs": [
    {
     "name": "stdout",
     "output_type": "stream",
     "text": [
      "['Monday', 'Tuesday', 'Wednesday', 1800, 20.357, 'Thursday', 'Friday', 'Monday']\n"
     ]
    }
   ],
   "source": [
    "x = list(['Monday', 'Tuesday', 'Wednesday', 1800, 20.357, 'Thursday', 'Friday',\"Monday\"]) \n",
    "print(x) "
   ]
  },
  {
   "cell_type": "code",
   "execution_count": 36,
   "id": "0fe5e289-b235-42e6-b3d2-c1f0e6b29499",
   "metadata": {},
   "outputs": [
    {
     "name": "stdout",
     "output_type": "stream",
     "text": [
      "{'Thursday', 1800, 'Monday', 'Wednesday', 'Tuesday', 20.357, 'Friday'}\n"
     ]
    }
   ],
   "source": [
    "x = set(['Monday', 'Tuesday', 'Wednesday', 1800, 20.357, 'Thursday', 'Friday',\"Monday\"]) \n",
    "print(x) "
   ]
  },
  {
   "cell_type": "code",
   "execution_count": 37,
   "id": "a910aae7-6be5-453e-93c9-6dfca6df424b",
   "metadata": {},
   "outputs": [
    {
     "name": "stdout",
     "output_type": "stream",
     "text": [
      "{2, 4, 'meat', 'orange'}\n"
     ]
    }
   ],
   "source": [
    "v = [2, 4, \"orange\", \"meat\", 4, \"orange\"]\n",
    "V = set(v)\n",
    "print(V)"
   ]
  },
  {
   "cell_type": "code",
   "execution_count": 39,
   "id": "ed8abb49-7963-4d60-bf69-d30f5a4b1917",
   "metadata": {},
   "outputs": [
    {
     "name": "stdout",
     "output_type": "stream",
     "text": [
      "{2, 4, 'meat', 'orange'}\n"
     ]
    }
   ],
   "source": [
    "v = [2, 4, \"orange\", \"meat\", 4, \"orange\",2, \"meat\"]\n",
    "V = set(v)\n",
    "print(V)"
   ]
  },
  {
   "cell_type": "code",
   "execution_count": 44,
   "id": "fd37ef02-df81-463e-9992-8da25aa1caa9",
   "metadata": {},
   "outputs": [
    {
     "name": "stdout",
     "output_type": "stream",
     "text": [
      "Ell \t ie \n"
     ]
    }
   ],
   "source": [
    "print(\"Ell \\t ie \")"
   ]
  },
  {
   "cell_type": "code",
   "execution_count": 47,
   "id": "e5589213-da70-4747-8d1e-deb0d3cb6ef5",
   "metadata": {},
   "outputs": [
    {
     "name": "stdout",
     "output_type": "stream",
     "text": [
      "[0, 1, 2, 3, 4, 5, 6, 7, 8, 9]\n",
      "\t\n"
     ]
    }
   ],
   "source": [
    "x = range(10) # Creates a sequence of integer values from 0 to 9\n",
    "print(list(x))\n",
    "print \n",
    "print('\\t')"
   ]
  },
  {
   "cell_type": "code",
   "execution_count": 52,
   "id": "c5229c4e-e0fa-42d2-8c78-0f047adadc49",
   "metadata": {},
   "outputs": [
    {
     "data": {
      "text/plain": [
       "[2, 3, 4]"
      ]
     },
     "execution_count": 52,
     "metadata": {},
     "output_type": "execute_result"
    }
   ],
   "source": [
    "x = [[1, 2, 3], [2, 3, 4], [3, 4, 5]]\n",
    "x[1]"
   ]
  },
  {
   "cell_type": "code",
   "execution_count": 51,
   "id": "3122ab69-1da9-48d9-87ac-29d5fdef6877",
   "metadata": {},
   "outputs": [
    {
     "data": {
      "text/plain": [
       "2"
      ]
     },
     "execution_count": 51,
     "metadata": {},
     "output_type": "execute_result"
    }
   ],
   "source": [
    "x[0][1]"
   ]
  },
  {
   "cell_type": "code",
   "execution_count": 53,
   "id": "9fd328a4-ac8c-4132-8087-f40848a46a8b",
   "metadata": {},
   "outputs": [
    {
     "data": {
      "text/plain": [
       "[3, 4, 5]"
      ]
     },
     "execution_count": 53,
     "metadata": {},
     "output_type": "execute_result"
    }
   ],
   "source": [
    "x[2]"
   ]
  },
  {
   "cell_type": "code",
   "execution_count": 54,
   "id": "d1b298a3-7774-44bd-8f40-4515ce83dc30",
   "metadata": {},
   "outputs": [
    {
     "data": {
      "text/plain": [
       "3"
      ]
     },
     "execution_count": 54,
     "metadata": {},
     "output_type": "execute_result"
    }
   ],
   "source": [
    "x[2][0]"
   ]
  },
  {
   "cell_type": "code",
   "execution_count": 55,
   "id": "12b169fc-4bf8-4ba0-ac26-c12d0b319e5d",
   "metadata": {},
   "outputs": [
    {
     "data": {
      "text/plain": [
       "5"
      ]
     },
     "execution_count": 55,
     "metadata": {},
     "output_type": "execute_result"
    }
   ],
   "source": [
    "x[2][2]"
   ]
  },
  {
   "cell_type": "code",
   "execution_count": 56,
   "id": "96aff143-9fad-4c30-b983-978851f841f2",
   "metadata": {},
   "outputs": [
    {
     "name": "stdout",
     "output_type": "stream",
     "text": [
      "7\n"
     ]
    }
   ],
   "source": [
    "x = ['Monday', 'Tuesday', 'Wednesday', 1800, 20.357, 'Thursday', 'Friday']\n",
    "print(len(x)) "
   ]
  },
  {
   "cell_type": "code",
   "execution_count": 58,
   "id": "9b598d5c-995c-4e6f-9f3d-c403146fdd21",
   "metadata": {},
   "outputs": [
    {
     "name": "stdout",
     "output_type": "stream",
     "text": [
      "14\n"
     ]
    }
   ],
   "source": [
    "x = \"NDORIMANA Elie\"\n",
    "print(len(x))\n"
   ]
  },
  {
   "cell_type": "code",
   "execution_count": 66,
   "id": "f27409d0-93ea-460e-ba04-078b1ba6b79b",
   "metadata": {},
   "outputs": [
    {
     "name": "stdout",
     "output_type": "stream",
     "text": [
      "['giraffe', 'tiger', 'monkey', 'mouse', 'Elie', 'Mukamisha']\n"
     ]
    }
   ],
   "source": [
    "x = ['giraffe', 'tiger']\n",
    "y = ['monkey', 'mouse', 'Elie','Mukamisha']\n",
    "z = x + y\n",
    "print(z) "
   ]
  },
  {
   "cell_type": "code",
   "execution_count": 67,
   "id": "196102e7-b99a-4e44-af82-066609399f75",
   "metadata": {},
   "outputs": [
    {
     "name": "stdout",
     "output_type": "stream",
     "text": [
      "2 4\n"
     ]
    }
   ],
   "source": [
    "print(len(x),len(y))"
   ]
  },
  {
   "cell_type": "code",
   "execution_count": 69,
   "id": "dc265b33-8565-4a59-b5f0-1fd7dfec0d13",
   "metadata": {},
   "outputs": [
    {
     "name": "stdout",
     "output_type": "stream",
     "text": [
      "['giraffe', 24, 18, 'tiger', 2400, 150, 'giraffe', 24, 18, 'tiger', 2400, 150, 'giraffe', 24, 18, 'tiger', 2400, 150, 'giraffe', 24, 18, 'tiger', 2400, 150, 'giraffe', 24, 18, 'tiger', 2400, 150, 'giraffe', 24, 18, 'tiger', 2400, 150, 'giraffe', 24, 18, 'tiger', 2400, 150, 'giraffe', 24, 18, 'tiger', 2400, 150, 'giraffe', 24, 18, 'tiger', 2400, 150, 'giraffe', 24, 18, 'tiger', 2400, 150]\n"
     ]
    }
   ],
   "source": [
    "x = ['giraffe', 24, 18, 'tiger', 2400, 150]\n",
    "y = x * 10\n",
    "print(y)"
   ]
  },
  {
   "cell_type": "code",
   "execution_count": 70,
   "id": "9ae6ade2-575e-45ac-9a4f-a118edfbe07c",
   "metadata": {},
   "outputs": [
    {
     "name": "stdout",
     "output_type": "stream",
     "text": [
      "60\n"
     ]
    }
   ],
   "source": [
    "print(len(y))"
   ]
  },
  {
   "cell_type": "code",
   "execution_count": 71,
   "id": "2fde8f08-1e9e-4f8c-bf6c-1d21bd170ce9",
   "metadata": {},
   "outputs": [
    {
     "name": "stdout",
     "output_type": "stream",
     "text": [
      "['Monday', 'Tuesday', 'Wednesday', 'Thursday', 'Friday', 'Saturday', 'Sunday']\n"
     ]
    }
   ],
   "source": [
    "x = ['Monday', 'Tuesday', 'Wednesday', 'Thursday', 'Friday']\n",
    "x.append('Saturday')\n",
    "x.append('Sunday')\n",
    "print(x)"
   ]
  },
  {
   "cell_type": "code",
   "execution_count": 72,
   "id": "2b82b6ac-ac39-49d5-916c-8ca6afb9a60c",
   "metadata": {},
   "outputs": [
    {
     "name": "stdout",
     "output_type": "stream",
     "text": [
      "7\n"
     ]
    }
   ],
   "source": [
    "print(len(x))"
   ]
  },
  {
   "cell_type": "code",
   "execution_count": null,
   "id": "851b3646-2301-419a-9558-3304000c4ac1",
   "metadata": {},
   "outputs": [],
   "source": []
  }
 ],
 "metadata": {
  "kernelspec": {
   "display_name": "Python 3 (ipykernel)",
   "language": "python",
   "name": "python3"
  },
  "language_info": {
   "codemirror_mode": {
    "name": "ipython",
    "version": 3
   },
   "file_extension": ".py",
   "mimetype": "text/x-python",
   "name": "python",
   "nbconvert_exporter": "python",
   "pygments_lexer": "ipython3",
   "version": "3.12.4"
  }
 },
 "nbformat": 4,
 "nbformat_minor": 5
}
