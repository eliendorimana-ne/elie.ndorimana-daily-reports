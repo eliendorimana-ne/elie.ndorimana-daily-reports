{
 "cells": [
  {
   "cell_type": "markdown",
   "id": "025def16-3a53-4fea-93ab-83dee6ea271f",
   "metadata": {},
   "source": [
    "## Functions"
   ]
  },
  {
   "cell_type": "markdown",
   "id": "f792bb7a-ddb5-4879-b7bf-3576ff05b6b4",
   "metadata": {},
   "source": [
    "## Input and Print"
   ]
  },
  {
   "cell_type": "markdown",
   "id": "51641b9f-a789-44ee-9c3f-7da37cd31d72",
   "metadata": {},
   "source": [
    "### User - defined "
   ]
  },
  {
   "cell_type": "code",
   "execution_count": 24,
   "id": "4aa9e0a6-37dc-42af-b4e1-ec38e7815fe3",
   "metadata": {},
   "outputs": [],
   "source": [
    "def tableMultiplication_table_8():\n",
    "    \"\"\"\n",
    "    Purpose: This function displays the first 10 values of the multiplication table for 8.\n",
    "    Input : None\n",
    "    Output: Prints the multiplication table for 8\n",
    "    \"\"\"\n",
    "    n = 1\n",
    "    while n <= 10:\n",
    "        v = n * 8\n",
    "        print(n, \"x\", 8, \"=\", v)\n",
    "        n = n + 1\n",
    "        \n",
    "\n",
    "  "
   ]
  },
  {
   "cell_type": "code",
   "execution_count": 25,
   "id": "c75dbe3b-19c1-47ee-ba87-b25e327161d6",
   "metadata": {},
   "outputs": [
    {
     "name": "stdout",
     "output_type": "stream",
     "text": [
      "1 x 8 = 8\n",
      "2 x 8 = 16\n",
      "3 x 8 = 24\n",
      "4 x 8 = 32\n",
      "5 x 8 = 40\n",
      "6 x 8 = 48\n",
      "7 x 8 = 56\n",
      "8 x 8 = 64\n",
      "9 x 8 = 72\n",
      "10 x 8 = 80\n"
     ]
    }
   ],
   "source": [
    "tableMultiplication_table_8()\n",
    "\n"
   ]
  },
  {
   "cell_type": "code",
   "execution_count": null,
   "id": "3ca0d1e1-7645-49dd-ab55-ef7d61fda7b4",
   "metadata": {},
   "outputs": [],
   "source": [
    "# cool display\n",
    "\n",
    "def table(base "
   ]
  },
  {
   "cell_type": "code",
   "execution_count": null,
   "id": "97b21929-c657-4c91-a226-8649c7dd053e",
   "metadata": {},
   "outputs": [],
   "source": []
  },
  {
   "cell_type": "code",
   "execution_count": 43,
   "id": "3dd2fd3d-af59-4ce1-86e9-234caf4db90d",
   "metadata": {},
   "outputs": [],
   "source": [
    "def square(x):\n",
    "    \"\"\"\n",
    "    This function calculates the square of a given number.\n",
    "    \n",
    "    Input: The number x to be squared.\n",
    "    Output: The square of the input number.\n",
    "\n",
    "    \"\"\"\n",
    "\n",
    "    return x**2"
   ]
  },
  {
   "cell_type": "code",
   "execution_count": 44,
   "id": "42b66c3e-7bc2-436c-9ea1-6383362a465f",
   "metadata": {},
   "outputs": [
    {
     "data": {
      "text/plain": [
       "64"
      ]
     },
     "execution_count": 44,
     "metadata": {},
     "output_type": "execute_result"
    }
   ],
   "source": [
    "square(8)\n"
   ]
  },
  {
   "cell_type": "code",
   "execution_count": 35,
   "id": "d797f5ba-4a9b-4098-ae17-42e63df8ca27",
   "metadata": {},
   "outputs": [],
   "source": [
    "def area_rectangle(length, width):\n",
    "\n",
    "    \"\"\"\n",
    "  The function calculates the area of a rectangle.\n",
    "  Input: Two parameter (lenth, width) of a rectangle.\n",
    "  Output: Area of rectangle\n",
    "\n",
    "    \"\"\"\n",
    "    area = length * width\n",
    "    print(\"The area of a rectangle is : \",area)\n",
    "    "
   ]
  },
  {
   "cell_type": "code",
   "execution_count": 36,
   "id": "86fde921-23d8-4cb7-a1e6-9950b9b9a737",
   "metadata": {},
   "outputs": [
    {
     "name": "stdout",
     "output_type": "stream",
     "text": [
      "The area of a rectangle is :  6\n"
     ]
    }
   ],
   "source": [
    "area_rectangle(2,3)"
   ]
  },
  {
   "cell_type": "code",
   "execution_count": 37,
   "id": "e731b129-be72-450a-ada9-4baca305b298",
   "metadata": {},
   "outputs": [
    {
     "name": "stdout",
     "output_type": "stream",
     "text": [
      "8 x 1 = 8\n",
      "8 x 2 = 16\n",
      "8 x 3 = 24\n",
      "8 x 4 = 32\n",
      "8 x 5 = 40\n",
      "8 x 6 = 48\n",
      "8 x 7 = 56\n",
      "8 x 8 = 64\n",
      "8 x 9 = 72\n",
      "8 x 10 = 80\n",
      "8 x 11 = 88\n",
      "8 x 12 = 96\n",
      "8 x 13 = 104\n",
      "8 x 14 = 112\n",
      "8 x 15 = 120\n",
      "8 x 16 = 128\n",
      "8 x 17 = 136\n",
      "8 x 18 = 144\n",
      "8 x 19 = 152\n",
      "8 x 20 = 160\n"
     ]
    }
   ],
   "source": [
    " def print_multiples_of_eight():\n",
    "    \"\"\"Prints the first 20 multiples of 8.\"\"\"\n",
    "    for i in range(1, 21):\n",
    "        print(f\"8 x {i} = {8 * i}\")\n",
    "print_multiples_of_eight()"
   ]
  },
  {
   "cell_type": "code",
   "execution_count": 38,
   "id": "2451dfdc-9543-445e-997b-c81b660f61ad",
   "metadata": {},
   "outputs": [
    {
     "name": "stdout",
     "output_type": "stream",
     "text": [
      "Multiplication Table for 8:\n",
      "=========================\n",
      " 1 x  8 =   8\n",
      " 2 x  8 =  16\n",
      " 3 x  8 =  24\n",
      " 4 x  8 =  32\n",
      " 5 x  8 =  40\n",
      " 6 x  8 =  48\n",
      " 7 x  8 =  56\n",
      " 8 x  8 =  64\n",
      " 9 x  8 =  72\n",
      "10 x  8 =  80\n",
      "11 x  8 =  88\n",
      "12 x  8 =  96\n",
      "13 x  8 = 104\n",
      "14 x  8 = 112\n",
      "15 x  8 = 120\n",
      "16 x  8 = 128\n",
      "17 x  8 = 136\n",
      "18 x  8 = 144\n",
      "19 x  8 = 152\n",
      "20 x  8 = 160\n",
      "=========================\n"
     ]
    }
   ],
   "source": [
    "def multiplication_table(n):\n",
    "    \"\"\"\n",
    "    The purpose of this function is to display the multiplication table for a given number `n`.\n",
    "    Input: n (int) - The number for which the multiplication table will be generated.\n",
    "    Output: The multiplication table for `n`.\n",
    "    \"\"\"\n",
    "    print(f\"Multiplication Table for {n}:\")\n",
    "    print(\"=\" * 25)\n",
    "    for i in range(1, 21):\n",
    "        result = i * n\n",
    "        print(f\"{i:2} x {n:2} = {result:3}\")\n",
    "    print(\"=\" * 25)\n",
    "\n",
    "# Example usage:\n",
    "multiplication_table(8)"
   ]
  },
  {
   "cell_type": "code",
   "execution_count": 1,
   "id": "ced07b6f-113f-4033-b3a9-2d12fcfe1857",
   "metadata": {},
   "outputs": [
    {
     "name": "stdout",
     "output_type": "stream",
     "text": [
      "Product of all elements: 12000000\n"
     ]
    }
   ],
   "source": [
    "numbers = [10, 20, 30, 40, 50]\n",
    "\n",
    "product = 1\n",
    "for num in numbers:\n",
    "    product *= num\n",
    "\n",
    "print(\"Product of all elements:\", product)"
   ]
  },
  {
   "cell_type": "code",
   "execution_count": 2,
   "id": "4595c594-dfb8-494b-9f51-20128c68a2bc",
   "metadata": {},
   "outputs": [
    {
     "name": "stdout",
     "output_type": "stream",
     "text": [
      "Product of all elements: 12000000\n"
     ]
    }
   ],
   "source": [
    "numbers = [10, 20, 30, 40, 50]\n",
    "product = 1\n",
    "for num in numbers: product *= num\n",
    "print(\"Product of all elements:\", product)"
   ]
  },
  {
   "cell_type": "code",
   "execution_count": 3,
   "id": "5d7b14b4-dbbd-4625-8dc5-00217f45bbdf",
   "metadata": {},
   "outputs": [
    {
     "name": "stdout",
     "output_type": "stream",
     "text": [
      "{'apple': 5, 'orange': 3}\n"
     ]
    }
   ],
   "source": [
    "inventory = {\"apple\": 5, \"banana\": 7, \"orange\": 3}\n",
    "if inventory.get(\"banana\", 0) >= 7:\n",
    "    del inventory[\"banana\"]\n",
    "print(inventory)"
   ]
  },
  {
   "cell_type": "markdown",
   "id": "f4a7a595-18a1-4218-888e-2f7879a4ac56",
   "metadata": {},
   "source": [
    "### Recursive Function"
   ]
  },
  {
   "cell_type": "code",
   "execution_count": 3,
   "id": "fce3685c-4a0f-4cbe-b746-e19d812a9688",
   "metadata": {},
   "outputs": [],
   "source": [
    "def fact(n):\n",
    "    if n <= 0:\n",
    "        return 1\n",
    "        return n * fact(n-1)"
   ]
  },
  {
   "cell_type": "code",
   "execution_count": 8,
   "id": "816e652b-2c05-470e-9ac7-15f041f86172",
   "metadata": {},
   "outputs": [
    {
     "data": {
      "text/plain": [
       "1"
      ]
     },
     "execution_count": 8,
     "metadata": {},
     "output_type": "execute_result"
    }
   ],
   "source": [
    "fact(0)"
   ]
  },
  {
   "cell_type": "code",
   "execution_count": 9,
   "id": "797937c7-ec54-4ac8-886c-f29c10272d46",
   "metadata": {},
   "outputs": [],
   "source": [
    "def fact(n):\n",
    "    if n <= 1:\n",
    "        return 1\n",
    "        return n * fact(n-1)"
   ]
  },
  {
   "cell_type": "code",
   "execution_count": 10,
   "id": "57fa892c-fe23-48db-a7c3-a95d1c744522",
   "metadata": {},
   "outputs": [
    {
     "data": {
      "text/plain": [
       "1"
      ]
     },
     "execution_count": 10,
     "metadata": {},
     "output_type": "execute_result"
    }
   ],
   "source": [
    "fact(-4)"
   ]
  },
  {
   "cell_type": "code",
   "execution_count": 12,
   "id": "ee11db83-053f-4fe4-8a6f-a4b1456fe670",
   "metadata": {},
   "outputs": [
    {
     "data": {
      "text/plain": [
       "1"
      ]
     },
     "execution_count": 12,
     "metadata": {},
     "output_type": "execute_result"
    }
   ],
   "source": [
    "fact(-3)"
   ]
  },
  {
   "cell_type": "code",
   "execution_count": 13,
   "id": "4195ec78-4eb2-44fb-ba22-da5321a65942",
   "metadata": {},
   "outputs": [
    {
     "data": {
      "text/plain": [
       "1"
      ]
     },
     "execution_count": 13,
     "metadata": {},
     "output_type": "execute_result"
    }
   ],
   "source": [
    "fact(-100)"
   ]
  },
  {
   "cell_type": "markdown",
   "id": "109e96b9-e85b-4e1f-a866-893e4a59fda8",
   "metadata": {},
   "source": [
    "### Fabonacci sequence"
   ]
  },
  {
   "cell_type": "code",
   "execution_count": null,
   "id": "619ee5f0-1ba3-4bda-b367-51e0496214a8",
   "metadata": {},
   "outputs": [],
   "source": [
    "F(0) = 0, F(1) = 1, F(n)p = F(n-1) + F(n-1) + F(n -2) for n>=2 "
   ]
  },
  {
   "cell_type": "code",
   "execution_count": 34,
   "id": "3305e7b0-3d61-4081-93d0-4945eea9247b",
   "metadata": {},
   "outputs": [],
   "source": [
    "def fibo(n):\n",
    "    if n <= 1:\n",
    "        return 1\n",
    "    return n * fibo(n-1) + fibo ( n- 2)"
   ]
  },
  {
   "cell_type": "code",
   "execution_count": 35,
   "id": "7469f760-9c00-4771-a4a3-df9d2596666d",
   "metadata": {},
   "outputs": [
    {
     "data": {
      "text/plain": [
       "7489051"
      ]
     },
     "execution_count": 35,
     "metadata": {},
     "output_type": "execute_result"
    }
   ],
   "source": [
    "fibo(10)"
   ]
  },
  {
   "cell_type": "code",
   "execution_count": 40,
   "id": "50fa4164-bc8b-40bc-a692-c50f05c768ca",
   "metadata": {},
   "outputs": [],
   "source": [
    "def fibo(n):\n",
    "    if n <= 1:\n",
    "        return n\n",
    "    return fibo(n-1) + fibo(n-2)"
   ]
  },
  {
   "cell_type": "code",
   "execution_count": 41,
   "id": "a5df89ec-cd6d-4cf0-b88a-385fc25d3492",
   "metadata": {},
   "outputs": [
    {
     "data": {
      "text/plain": [
       "0"
      ]
     },
     "execution_count": 41,
     "metadata": {},
     "output_type": "execute_result"
    }
   ],
   "source": [
    "fibo(0)"
   ]
  },
  {
   "cell_type": "code",
   "execution_count": 42,
   "id": "c5762080-67e8-454f-bbe0-d6b2df7cfacd",
   "metadata": {},
   "outputs": [
    {
     "data": {
      "text/plain": [
       "1"
      ]
     },
     "execution_count": 42,
     "metadata": {},
     "output_type": "execute_result"
    }
   ],
   "source": [
    "fibo(1)"
   ]
  },
  {
   "cell_type": "code",
   "execution_count": 43,
   "id": "c5ac0c76-4992-457d-89e4-c21219824542",
   "metadata": {},
   "outputs": [
    {
     "data": {
      "text/plain": [
       "1"
      ]
     },
     "execution_count": 43,
     "metadata": {},
     "output_type": "execute_result"
    }
   ],
   "source": [
    "fibo(2)"
   ]
  },
  {
   "cell_type": "code",
   "execution_count": 44,
   "id": "f6df7a78-58ac-4163-9a13-1ff163db901c",
   "metadata": {},
   "outputs": [
    {
     "data": {
      "text/plain": [
       "55"
      ]
     },
     "execution_count": 44,
     "metadata": {},
     "output_type": "execute_result"
    }
   ],
   "source": [
    "fibo(10)"
   ]
  },
  {
   "cell_type": "markdown",
   "id": "1642833c-87e5-4714-acb2-9d19d4e9cc20",
   "metadata": {},
   "source": [
    "## Lambda Function"
   ]
  },
  {
   "cell_type": "code",
   "execution_count": 52,
   "id": "2697feb1-efe9-4f30-8976-3f29340c3120",
   "metadata": {},
   "outputs": [
    {
     "name": "stdout",
     "output_type": "stream",
     "text": [
      "8\n"
     ]
    }
   ],
   "source": [
    "double = lambda x: x * 2\n",
    "print(double(4))"
   ]
  },
  {
   "cell_type": "code",
   "execution_count": 55,
   "id": "2e4213f7-15c2-4ce9-b066-8eae09639512",
   "metadata": {},
   "outputs": [
    {
     "name": "stdout",
     "output_type": "stream",
     "text": [
      "16\n",
      "8\n"
     ]
    }
   ],
   "source": [
    "def power (n):\n",
    "    return lambda x: x**n \n",
    "\n",
    "square = power(2)\n",
    "cube  = power(3)\n",
    "\n",
    "print(square(4))\n",
    "print(cube(2))"
   ]
  },
  {
   "cell_type": "code",
   "execution_count": null,
   "id": "f24af48f-e6e9-46ef-a339-4268f5b1d98d",
   "metadata": {},
   "outputs": [],
   "source": []
  }
 ],
 "metadata": {
  "kernelspec": {
   "display_name": "Python 3 (ipykernel)",
   "language": "python",
   "name": "python3"
  },
  "language_info": {
   "codemirror_mode": {
    "name": "ipython",
    "version": 3
   },
   "file_extension": ".py",
   "mimetype": "text/x-python",
   "name": "python",
   "nbconvert_exporter": "python",
   "pygments_lexer": "ipython3",
   "version": "3.12.4"
  }
 },
 "nbformat": 4,
 "nbformat_minor": 5
}
