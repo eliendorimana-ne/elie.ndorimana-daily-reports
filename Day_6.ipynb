{
 "cells": [
  {
   "cell_type": "markdown",
   "id": "c04fbf86-70cc-47eb-8c89-18966169ef45",
   "metadata": {},
   "source": [
    "## Elie NDORIMANA \n",
    "## DAY_6 Report"
   ]
  },
  {
   "cell_type": "code",
   "execution_count": 81,
   "id": "c5ff77dd-3fee-4082-add4-874c5973c539",
   "metadata": {},
   "outputs": [
    {
     "name": "stdout",
     "output_type": "stream",
     "text": [
      "Elie\n",
      "['Calculus', 'Algebra', 'Statistics']\n",
      "name : Elie\n",
      "age : 24\n",
      "department : Mathematics\n",
      "courses : ['Calculus', 'Algebra', 'Statistics']\n",
      "university : University of Rwanda\n"
     ]
    }
   ],
   "source": [
    "\n",
    "student = {\n",
    "    \"name\": \"Elie\",\n",
    "    \"age\": 23,\n",
    "    \"department\": \"Mathematics\",\n",
    "    \"is_graduated\": False,\n",
    "    \"courses\": [\"Calculus\", \"Algebra\", \"Statistics\"]\n",
    "}\n",
    "\n",
    "\n",
    "print(student[\"name\"])        # Output: Elie\n",
    "print(student[\"courses\"])     # Output: ['Calculus', 'Algebra', 'Statistics']\n",
    "\n",
    "\n",
    "student[\"university\"] = \"University of Rwanda\"\n",
    "\n",
    "\n",
    "student[\"age\"] = 24\n",
    "\n",
    "\n",
    "del student[\"is_graduated\"]\n",
    "\n",
    "\n",
    "for key, value in student.items():\n",
    "    print(key, \":\", value)\n"
   ]
  },
  {
   "cell_type": "code",
   "execution_count": 78,
   "id": "042abf29-de96-42dc-b475-dcf2f3efd8be",
   "metadata": {},
   "outputs": [
    {
     "name": "stdout",
     "output_type": "stream",
     "text": [
      "27\n"
     ]
    }
   ],
   "source": [
    "# if clause\n",
    "a = 27\n",
    "print(a)"
   ]
  },
  {
   "cell_type": "code",
   "execution_count": null,
   "id": "aa8af382-1b46-46dd-961b-4fa2cfcd80f5",
   "metadata": {
    "jupyter": {
     "source_hidden": true
    }
   },
   "outputs": [],
   "source": [
    "```python\n",
    "if ..........:\n",
    "\n",
    "      instruction 1 ......\n",
    "\n"
   ]
  },
  {
   "cell_type": "code",
   "execution_count": 80,
   "id": "df241841-d68d-4b8b-831c-d1c1820650cf",
   "metadata": {},
   "outputs": [
    {
     "name": "stdout",
     "output_type": "stream",
     "text": [
      "27\n",
      "we  do not have it\n"
     ]
    }
   ],
   "source": [
    "a = 27\n",
    "print(a)\n",
    "\n",
    "if(a > 29):\n",
    "   print(\"We have it\")\n",
    "else:\n",
    "     print(\"we  do not have it\")"
   ]
  },
  {
   "cell_type": "code",
   "execution_count": null,
   "id": "bdc92e09-6052-4b3d-9abf-1feadcd0d593",
   "metadata": {},
   "outputs": [],
   "source": []
  },
  {
   "cell_type": "markdown",
   "id": "363dbc99-3201-4e5a-948b-2bc07491d81d",
   "metadata": {},
   "source": [
    "if ... elif ... else"
   ]
  },
  {
   "cell_type": "code",
   "execution_count": null,
   "id": "565d35b2-e160-43fb-a600-af88c2d338a6",
   "metadata": {},
   "outputs": [],
   "source": [
    "x = 0\n",
    "if x > 0:\n",
    "      print(\"x is positive\")\n",
    "elif x < 0 :\n",
    "    print(\"x is negative\")\n",
    "\n",
    "    else"
   ]
  },
  {
   "cell_type": "markdown",
   "id": "e4b5defd-82aa-4521-85c9-fb5065954e15",
   "metadata": {},
   "source": [
    "```python\n",
    "if ..........:\n",
    "\n",
    "      instruction 1 ......"
   ]
  },
  {
   "cell_type": "code",
   "execution_count": 21,
   "id": "66b498d3-72dd-450c-8290-49dee278e983",
   "metadata": {},
   "outputs": [
    {
     "name": "stdout",
     "output_type": "stream",
     "text": [
      "a is greater than b\n",
      "the dif is .....\n"
     ]
    }
   ],
   "source": [
    "a = 15\n",
    "b = 10\n",
    "\n",
    "if a > b:\n",
    "    print(\"a is greater than b\")\n",
    "    if (a-b >5):\n",
    "    \n",
    "        print(\"the diff is ....\")\n",
    "    else:\n",
    "        print(\"the dif is .....\")\n",
    "\n",
    "else:\n",
    "        print(\"b is greater than a\")"
   ]
  },
  {
   "cell_type": "code",
   "execution_count": 31,
   "id": "6dbb19ce-3b8e-4129-a997-b433167eba5d",
   "metadata": {},
   "outputs": [
    {
     "name": "stdout",
     "output_type": "stream",
     "text": [
      "Two distinct real roots: x1 = 2.0, x2 = 1.0\n",
      "One real root (double root): x = -1.0\n",
      "No real roots (delta < 0).\n"
     ]
    }
   ],
   "source": [
    "import math\n",
    "\n",
    "def Q(a, b, c):\n",
    "\n",
    "    delta = b**2 - 4*a*c\n",
    "    \n",
    "    \n",
    "    if delta > 0:\n",
    "        x1 = (-b + math.sqrt(delta)) / (2*a)\n",
    "        x2 = (-b - math.sqrt(delta)) / (2*a)\n",
    "        return f\"Two distinct real roots: x1 = {x1}, x2 = {x2}\"\n",
    "    elif delta == 0:\n",
    "        x = -b / (2*a)\n",
    "        return f\"One real root (double root): x = {x}\"\n",
    "    else:\n",
    "        return \"No real roots (delta < 0).\"\n",
    "\n",
    "\n",
    "print(Q(1, -3, 2))   \n",
    "print(Q(1, 2, 1))    \n",
    "print(Q(1, 1, 1))    \n"
   ]
  },
  {
   "cell_type": "code",
   "execution_count": 42,
   "id": "b89e7f2f-8e60-4953-a64f-adc4decfaaa6",
   "metadata": {},
   "outputs": [
    {
     "name": "stdin",
     "output_type": "stream",
     "text": [
      "Enter the value of a:  -2\n",
      "Enter the value of b:  3\n",
      "Enter the value of c:  4\n"
     ]
    },
    {
     "name": "stdout",
     "output_type": "stream",
     "text": [
      "Two distinct real roots: x1 = -0.8507810593582121, x2 = 2.350781059358212\n"
     ]
    }
   ],
   "source": [
    "import math\n",
    "\n",
    "# Input values\n",
    "a = eval(input(\"Enter the value of a: \"))\n",
    "b = eval(input(\"Enter the value of b: \"))\n",
    "c = eval(input(\"Enter the value of c: \"))\n",
    "\n",
    "# Quadratic: a*x^2 + b*x + c = 0\n",
    "delta = b**2 - 4*a*c\n",
    "\n",
    "if a != 0:   # Ensure it's a quadratic equation\n",
    "    if delta > 0:\n",
    "        x1 = (-b + math.sqrt(delta)) / (2*a)\n",
    "        x2 = (-b - math.sqrt(delta)) / (2*a)\n",
    "        print(f\"Two distinct real roots: x1 = {x1}, x2 = {x2}\")\n",
    "    elif delta == 0:\n",
    "        x = -b / (2*a)\n",
    "        print(f\"One real root (double root): x = {x}\")\n",
    "    else:\n",
    "        print(\"No real roots (discriminant < 0)\")\n",
    "else:\n",
    "    # If a = 0, equation becomes linear bx + c = 0\n",
    "    if b != 0:\n",
    "        x = -c / b\n",
    "        print(f\"Linear equation, one root: x = {x}\")\n",
    "    else:\n",
    "        if c == 0:\n",
    "            print(\"Infinite solutions (0 = 0).\")\n",
    "        else:\n",
    "            print(\"No solution (contradiction).\")\n"
   ]
  },
  {
   "cell_type": "markdown",
   "id": "98d76026-70a1-43cc-b9ec-8e3d992c5079",
   "metadata": {},
   "source": [
    "## While loops"
   ]
  },
  {
   "cell_type": "code",
   "execution_count": 54,
   "id": "dc149531-8ffb-413c-8d66-cecf3318b093",
   "metadata": {},
   "outputs": [
    {
     "name": "stdout",
     "output_type": "stream",
     "text": [
      "the value of x is  1\n",
      "the value of x is  2\n",
      "the value of x is  3\n",
      "the value of x is  4\n",
      "the value of x is  5\n",
      "the value of x is  6\n",
      "the value of x is  7\n",
      "the value of x is  8\n",
      "the value of x is  9\n"
     ]
    }
   ],
   "source": [
    "i = 1\n",
    "while (i < 10):\n",
    "    print(\"the value of x is \", i)\n",
    "    i = i + 1"
   ]
  },
  {
   "cell_type": "code",
   "execution_count": 57,
   "id": "b0c8d2c3-610e-4788-9b99-8e48c8bea72a",
   "metadata": {},
   "outputs": [
    {
     "name": "stdout",
     "output_type": "stream",
     "text": [
      "the value of x is  1\n",
      "the value of x is  2\n",
      "the value of x is  3\n",
      "the value of x is  4\n",
      "the value of x is  5\n",
      "the value of x is  6\n",
      "the value of x is  7\n",
      "the value of x is  8\n",
      "the value of x is  9\n",
      "the value of x is  10\n",
      "the value of x is  11\n"
     ]
    }
   ],
   "source": [
    "i = 1\n",
    "while (i < 12):\n",
    "    print(\"the value of x is \", i)\n",
    "    i = i + 1"
   ]
  },
  {
   "cell_type": "markdown",
   "id": "461371cf-8c33-4c89-a008-a79730f9a616",
   "metadata": {},
   "source": [
    "## For "
   ]
  },
  {
   "cell_type": "code",
   "execution_count": 59,
   "id": "0fb8d5e4-4a04-46f3-811b-565f0a820244",
   "metadata": {},
   "outputs": [
    {
     "name": "stdout",
     "output_type": "stream",
     "text": [
      "0\n",
      "1\n",
      "2\n",
      "3\n",
      "4\n",
      "5\n",
      "6\n",
      "7\n",
      "8\n",
      "9\n"
     ]
    }
   ],
   "source": [
    "n = 10\n",
    "for i in range(n):\n",
    "    print(i)\n"
   ]
  },
  {
   "cell_type": "markdown",
   "id": "bd1df70e-1129-40ec-b134-1b60767b858a",
   "metadata": {},
   "source": [
    "## For .......... if ..... else"
   ]
  },
  {
   "cell_type": "code",
   "execution_count": 67,
   "id": "113632c0-8061-4903-bf27-e961e45b9262",
   "metadata": {},
   "outputs": [
    {
     "name": "stdout",
     "output_type": "stream",
     "text": [
      "Try again\n",
      "we found it\n",
      "Try again\n",
      "Try again\n"
     ]
    }
   ],
   "source": [
    "list_fr = [3, 5, 'hello', 98]\n",
    "for i in list_fr:\n",
    "    if i == 5:\n",
    "        print(\"we found it\")\n",
    "    else:\n",
    "        print(\"Try again\")"
   ]
  },
  {
   "cell_type": "markdown",
   "id": "acf372d6-7645-4230-a6e5-64822c1bd6d9",
   "metadata": {},
   "source": [
    "## if ........... elif .........  else"
   ]
  },
  {
   "cell_type": "code",
   "execution_count": 74,
   "id": "b5b63603-c41c-4737-84c3-6d1354ac7cc3",
   "metadata": {},
   "outputs": [
    {
     "name": "stdout",
     "output_type": "stream",
     "text": [
      "The letter T is a consonant\n",
      "The letter h is a consonant\n",
      "The letter i is a vowel\n",
      "The letter s is a consonant\n",
      "The letter   is a consonant\n",
      "The letter i is a vowel\n",
      "The letter s is a consonant\n",
      "The letter   is a consonant\n",
      "The letter t is a consonant\n",
      "The letter h is a consonant\n",
      "The letter e is a vowel\n",
      "The letter   is a consonant\n",
      "The letter s is a consonant\n",
      "The letter e is a vowel\n",
      "The letter c is a consonant\n",
      "The letter o is a vowel\n",
      "The letter n is a consonant\n",
      "The letter d is a consonant\n",
      "The letter   is a consonant\n",
      "The letter c is a consonant\n",
      "The letter l is a consonant\n",
      "The letter a is a vowel\n",
      "The letter s is a consonant\n",
      "The letter s is a consonant\n",
      "The letter   is a consonant\n",
      "The letter i is a vowel\n",
      "The letter n is a consonant\n",
      "The letter   is a consonant\n",
      "The letter t is a consonant\n",
      "The letter h is a consonant\n",
      "The letter e is a vowel\n",
      "The letter   is a consonant\n",
      "The letter n is a consonant\n",
      "The letter e is a vowel\n",
      "The letter w is a consonant\n",
      "The letter   is a consonant\n",
      "The letter A is a vowel\n",
      "The letter I is a vowel\n",
      "The letter M is a consonant\n",
      "The letter S is a consonant\n",
      "The letter   is a consonant\n",
      "The letter b is a consonant\n",
      "The letter u is a vowel\n",
      "The letter i is a vowel\n",
      "The letter l is a consonant\n",
      "The letter d is a consonant\n",
      "The letter i is a vowel\n",
      "The letter n is a consonant\n",
      "The letter g is a consonant\n",
      "The letter . is a consonant\n"
     ]
    }
   ],
   "source": [
    "sentence = \"This is the second class in the new AIMS building.\"\n",
    "#sentennce = \"Hello, World.\"\n",
    "for letter in sentence:\n",
    "    \n",
    "    if letter in \"AEIOUYaeiouy\":\n",
    "        print(\"The letter\", letter, \"is a vowel\")\n",
    "    elif letter == \"\":\n",
    "        print(\"This is likely a space\")\n",
    "    else:\n",
    "        print(\"The letter\", letter, \"is a consonant\")"
   ]
  },
  {
   "cell_type": "code",
   "execution_count": null,
   "id": "391b7dd5-bbee-4f80-b4a8-e48c0f03a0e4",
   "metadata": {},
   "outputs": [],
   "source": []
  }
 ],
 "metadata": {
  "kernelspec": {
   "display_name": "Python 3 (ipykernel)",
   "language": "python",
   "name": "python3"
  },
  "language_info": {
   "codemirror_mode": {
    "name": "ipython",
    "version": 3
   },
   "file_extension": ".py",
   "mimetype": "text/x-python",
   "name": "python",
   "nbconvert_exporter": "python",
   "pygments_lexer": "ipython3",
   "version": "3.12.4"
  }
 },
 "nbformat": 4,
 "nbformat_minor": 5
}
