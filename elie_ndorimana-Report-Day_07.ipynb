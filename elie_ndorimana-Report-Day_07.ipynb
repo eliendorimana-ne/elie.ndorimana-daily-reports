{
 "cells": [
  {
   "cell_type": "markdown",
   "id": "025def16-3a53-4fea-93ab-83dee6ea271f",
   "metadata": {},
   "source": [
    "## Functions"
   ]
  },
  {
   "cell_type": "markdown",
   "id": "f792bb7a-ddb5-4879-b7bf-3576ff05b6b4",
   "metadata": {},
   "source": [
    "## Input and Print"
   ]
  },
  {
   "cell_type": "markdown",
   "id": "51641b9f-a789-44ee-9c3f-7da37cd31d72",
   "metadata": {},
   "source": [
    "### User - defined "
   ]
  },
  {
   "cell_type": "code",
   "execution_count": 24,
   "id": "4aa9e0a6-37dc-42af-b4e1-ec38e7815fe3",
   "metadata": {},
   "outputs": [],
   "source": [
    "def tableMultiplication_table_8():\n",
    "    \"\"\"\n",
    "    Purpose: This function displays the first 10 values of the multiplication table for 8.\n",
    "    Input : None\n",
    "    Output: Prints the multiplication table for 8\n",
    "    \"\"\"\n",
    "    n = 1\n",
    "    while n <= 10:\n",
    "        v = n * 8\n",
    "        print(n, \"x\", 8, \"=\", v)\n",
    "        n = n + 1\n",
    "        \n",
    "\n",
    "  "
   ]
  },
  {
   "cell_type": "code",
   "execution_count": 25,
   "id": "c75dbe3b-19c1-47ee-ba87-b25e327161d6",
   "metadata": {},
   "outputs": [
    {
     "name": "stdout",
     "output_type": "stream",
     "text": [
      "1 x 8 = 8\n",
      "2 x 8 = 16\n",
      "3 x 8 = 24\n",
      "4 x 8 = 32\n",
      "5 x 8 = 40\n",
      "6 x 8 = 48\n",
      "7 x 8 = 56\n",
      "8 x 8 = 64\n",
      "9 x 8 = 72\n",
      "10 x 8 = 80\n"
     ]
    }
   ],
   "source": [
    "tableMultiplication_table_8()\n",
    "\n"
   ]
  },
  {
   "cell_type": "code",
   "execution_count": null,
   "id": "3ca0d1e1-7645-49dd-ab55-ef7d61fda7b4",
   "metadata": {},
   "outputs": [],
   "source": [
    "# cool display\n",
    "\n",
    "def table(base "
   ]
  },
  {
   "cell_type": "code",
   "execution_count": null,
   "id": "97b21929-c657-4c91-a226-8649c7dd053e",
   "metadata": {},
   "outputs": [],
   "source": []
  },
  {
   "cell_type": "code",
   "execution_count": 43,
   "id": "3dd2fd3d-af59-4ce1-86e9-234caf4db90d",
   "metadata": {},
   "outputs": [],
   "source": [
    "def square(x):\n",
    "    \"\"\"\n",
    "    This function calculates the square of a given number.\n",
    "    \n",
    "    Input: The number x to be squared.\n",
    "    Output: The square of the input number.\n",
    "\n",
    "    \"\"\"\n",
    "\n",
    "    return x**2"
   ]
  },
  {
   "cell_type": "code",
   "execution_count": 44,
   "id": "42b66c3e-7bc2-436c-9ea1-6383362a465f",
   "metadata": {},
   "outputs": [
    {
     "data": {
      "text/plain": [
       "64"
      ]
     },
     "execution_count": 44,
     "metadata": {},
     "output_type": "execute_result"
    }
   ],
   "source": [
    "square(8)\n"
   ]
  },
  {
   "cell_type": "code",
   "execution_count": 35,
   "id": "d797f5ba-4a9b-4098-ae17-42e63df8ca27",
   "metadata": {},
   "outputs": [],
   "source": [
    "def area_rectangle(length, width):\n",
    "\n",
    "    \"\"\"\n",
    "  The function calculates the area of a rectangle.\n",
    "  Input: Two parameter (lenth, width) of a rectangle.\n",
    "  Output: Area of rectangle\n",
    "\n",
    "    \"\"\"\n",
    "    area = length * width\n",
    "    print(\"The area of a rectangle is : \",area)\n",
    "    "
   ]
  },
  {
   "cell_type": "code",
   "execution_count": 36,
   "id": "86fde921-23d8-4cb7-a1e6-9950b9b9a737",
   "metadata": {},
   "outputs": [
    {
     "name": "stdout",
     "output_type": "stream",
     "text": [
      "The area of a rectangle is :  6\n"
     ]
    }
   ],
   "source": [
    "area_rectangle(2,3)"
   ]
  },
  {
   "cell_type": "code",
   "execution_count": 37,
   "id": "e731b129-be72-450a-ada9-4baca305b298",
   "metadata": {},
   "outputs": [
    {
     "name": "stdout",
     "output_type": "stream",
     "text": [
      "8 x 1 = 8\n",
      "8 x 2 = 16\n",
      "8 x 3 = 24\n",
      "8 x 4 = 32\n",
      "8 x 5 = 40\n",
      "8 x 6 = 48\n",
      "8 x 7 = 56\n",
      "8 x 8 = 64\n",
      "8 x 9 = 72\n",
      "8 x 10 = 80\n",
      "8 x 11 = 88\n",
      "8 x 12 = 96\n",
      "8 x 13 = 104\n",
      "8 x 14 = 112\n",
      "8 x 15 = 120\n",
      "8 x 16 = 128\n",
      "8 x 17 = 136\n",
      "8 x 18 = 144\n",
      "8 x 19 = 152\n",
      "8 x 20 = 160\n"
     ]
    }
   ],
   "source": [
    " def print_multiples_of_eight():\n",
    "    \"\"\"Prints the first 20 multiples of 8.\"\"\"\n",
    "    for i in range(1, 21):\n",
    "        print(f\"8 x {i} = {8 * i}\")\n",
    "print_multiples_of_eight()"
   ]
  },
  {
   "cell_type": "code",
   "execution_count": 38,
   "id": "2451dfdc-9543-445e-997b-c81b660f61ad",
   "metadata": {},
   "outputs": [
    {
     "name": "stdout",
     "output_type": "stream",
     "text": [
      "Multiplication Table for 8:\n",
      "=========================\n",
      " 1 x  8 =   8\n",
      " 2 x  8 =  16\n",
      " 3 x  8 =  24\n",
      " 4 x  8 =  32\n",
      " 5 x  8 =  40\n",
      " 6 x  8 =  48\n",
      " 7 x  8 =  56\n",
      " 8 x  8 =  64\n",
      " 9 x  8 =  72\n",
      "10 x  8 =  80\n",
      "11 x  8 =  88\n",
      "12 x  8 =  96\n",
      "13 x  8 = 104\n",
      "14 x  8 = 112\n",
      "15 x  8 = 120\n",
      "16 x  8 = 128\n",
      "17 x  8 = 136\n",
      "18 x  8 = 144\n",
      "19 x  8 = 152\n",
      "20 x  8 = 160\n",
      "=========================\n"
     ]
    }
   ],
   "source": [
    "def multiplication_table(n):\n",
    "    \"\"\"\n",
    "    The purpose of this function is to display the multiplication table for a given number `n`.\n",
    "    Input: n (int) - The number for which the multiplication table will be generated.\n",
    "    Output: The multiplication table for `n`.\n",
    "    \"\"\"\n",
    "    print(f\"Multiplication Table for {n}:\")\n",
    "    print(\"=\" * 25)\n",
    "    for i in range(1, 21):\n",
    "        result = i * n\n",
    "        print(f\"{i:2} x {n:2} = {result:3}\")\n",
    "    print(\"=\" * 25)\n",
    "\n",
    "# Example usage:\n",
    "multiplication_table(8)"
   ]
  },
  {
   "cell_type": "code",
   "execution_count": null,
   "id": "ced07b6f-113f-4033-b3a9-2d12fcfe1857",
   "metadata": {},
   "outputs": [],
   "source": []
  }
 ],
 "metadata": {
  "kernelspec": {
   "display_name": "Python 3 (ipykernel)",
   "language": "python",
   "name": "python3"
  },
  "language_info": {
   "codemirror_mode": {
    "name": "ipython",
    "version": 3
   },
   "file_extension": ".py",
   "mimetype": "text/x-python",
   "name": "python",
   "nbconvert_exporter": "python",
   "pygments_lexer": "ipython3",
   "version": "3.12.4"
  }
 },
 "nbformat": 4,
 "nbformat_minor": 5
}
