{
 "cells": [
  {
   "cell_type": "code",
   "execution_count": 1,
   "id": "abebdaeb-2b67-4333-b530-319a75eef2c0",
   "metadata": {},
   "outputs": [
    {
     "name": "stdin",
     "output_type": "stream",
     "text": [
      "Enter your text:  i am happy.today   i went to school!then i saw john? it was nice.\n"
     ]
    },
    {
     "name": "stdout",
     "output_type": "stream",
     "text": [
      "\n",
      "Corrected text:\n",
      "I am happy. Today I went to school! Then I saw john? It was nice.\n"
     ]
    }
   ],
   "source": [
    "def capitalize_smartly(text: str) -> str:\n",
    "    import re\n",
    "\n",
    "    # --- Step 1: Trim leading and trailing spaces ---\n",
    "    \n",
    "    text = text.strip()\n",
    "\n",
    "    # --- Step 2: Normalize multiple spaces (preserve line breaks) ---\n",
    "    \n",
    "    text = re.sub(r'[ \\t]+', ' ', text)           # collapse spaces/tabs into single space\n",
    "    text = re.sub(r' *\\n *', '\\n', text)          # clean spaces around line breaks\n",
    "\n",
    "    # --- Step 3: Ensure exactly one space after . ! ? (if followed by a word) ---\n",
    "    \n",
    "    text = re.sub(r'([.!?])\\s*', r'\\1 ', text)    # add single space after punctuation\n",
    "    text = re.sub(r'\\s+([.!?])', r'\\1', text)     # remove space before punctuation\n",
    "\n",
    "    # --- Step 4: Capitalize first letter of text and after punctuation ---\n",
    "\n",
    "    \n",
    "    result = \"\"\n",
    "    capitalize_next = True\n",
    "    for ch in text:\n",
    "        if capitalize_next and ch.isalpha():\n",
    "            result += ch.upper()\n",
    "            capitalize_next = False\n",
    "        else:\n",
    "            result += ch\n",
    "\n",
    "        # If character ends a sentence, next letter should be capitalized\n",
    "        \n",
    "        if ch in \".!?\":\n",
    "            capitalize_next = True\n",
    "        elif ch.isalpha():\n",
    "            pass\n",
    "        elif ch not in \" \\n\\t\":\n",
    "            capitalize_next = False\n",
    "\n",
    "    # --- Step 5: Replace standalone lowercase 'i' with 'I' ---\n",
    "    \n",
    "    result = re.sub(r'(?<=\\s)i(?=\\s|[.,!?;:]|\\Z)', 'I', result)\n",
    "\n",
    "    # --- Step 6: Normalize spaces again and trim ---\n",
    "    \n",
    "    result = re.sub(r' +', ' ', result)            # single space between words\n",
    "    result = re.sub(r' *\\n *', '\\n', result)       # clean line spacing\n",
    "    result = result.strip()\n",
    "\n",
    "    return result\n",
    "\n",
    "\n",
    "# --- MAIN PROGRAM ---\n",
    "\n",
    "if __name__ == \"__main__\":\n",
    "    user_input = input(\"Enter your text: \")\n",
    "    corrected = capitalize_smartly(user_input)\n",
    "    print(\"\\nCorrected text:\\n\" + corrected)\n"
   ]
  },
  {
   "cell_type": "code",
   "execution_count": null,
   "id": "be6ca884-3a31-445a-8922-5a5dce58cdd9",
   "metadata": {},
   "outputs": [],
   "source": [
    "\n"
   ]
  },
  {
   "cell_type": "code",
   "execution_count": null,
   "id": "5c2baaa4-3fd9-492f-8efd-4ceebc198bd8",
   "metadata": {},
   "outputs": [],
   "source": []
  }
 ],
 "metadata": {
  "kernelspec": {
   "display_name": "Python 3 (ipykernel)",
   "language": "python",
   "name": "python3"
  },
  "language_info": {
   "codemirror_mode": {
    "name": "ipython",
    "version": 3
   },
   "file_extension": ".py",
   "mimetype": "text/x-python",
   "name": "python",
   "nbconvert_exporter": "python",
   "pygments_lexer": "ipython3",
   "version": "3.12.4"
  }
 },
 "nbformat": 4,
 "nbformat_minor": 5
}
