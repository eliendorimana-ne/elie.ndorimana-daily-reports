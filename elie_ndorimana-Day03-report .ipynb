{
 "cells": [
  {
   "cell_type": "markdown",
   "id": "d7c08c5f",
   "metadata": {},
   "source": [
    "## Strings and files\n"
   ]
  },
  {
   "cell_type": "code",
   "execution_count": null,
   "id": "2720d31b",
   "metadata": {},
   "outputs": [],
   "source": []
  },
  {
   "cell_type": "code",
   "execution_count": 1,
   "id": "e4b220c5",
   "metadata": {},
   "outputs": [],
   "source": [
    "string_1 = \"Will you be at meeting tonight?\"\n",
    "\n",
    "string_2 =' \"Yes\", he replies.'"
   ]
  },
  {
   "cell_type": "code",
   "execution_count": 2,
   "id": "77a03f11",
   "metadata": {},
   "outputs": [
    {
     "name": "stdout",
     "output_type": "stream",
     "text": [
      "Will you be at meeting tonight?\n"
     ]
    }
   ],
   "source": [
    "print(string_1)"
   ]
  },
  {
   "cell_type": "code",
   "execution_count": 3,
   "id": "80d68889",
   "metadata": {},
   "outputs": [
    {
     "name": "stdout",
     "output_type": "stream",
     "text": [
      " \"Yes\", he replies.\n"
     ]
    }
   ],
   "source": [
    "print(string_2)"
   ]
  },
  {
   "cell_type": "markdown",
   "id": "7794bfc7",
   "metadata": {},
   "source": [
    "## Indexing"
   ]
  },
  {
   "cell_type": "code",
   "execution_count": 4,
   "id": "c985d0ed",
   "metadata": {},
   "outputs": [
    {
     "data": {
      "text/plain": [
       "'W'"
      ]
     },
     "execution_count": 4,
     "metadata": {},
     "output_type": "execute_result"
    }
   ],
   "source": [
    "string_1[0]"
   ]
  },
  {
   "cell_type": "code",
   "execution_count": 5,
   "id": "76720369",
   "metadata": {},
   "outputs": [
    {
     "data": {
      "text/plain": [
       "'l'"
      ]
     },
     "execution_count": 5,
     "metadata": {},
     "output_type": "execute_result"
    }
   ],
   "source": [
    "string_1[2]"
   ]
  },
  {
   "cell_type": "code",
   "execution_count": 9,
   "id": "7e4256ce",
   "metadata": {},
   "outputs": [
    {
     "name": "stdout",
     "output_type": "stream",
     "text": [
      "Will you be at meeting tonight?\n",
      "The second Character of my string is  i\n"
     ]
    }
   ],
   "source": [
    "print(string_1)\n",
    "\n",
    "print(\"The second Character of my string is \", string_1[1])"
   ]
  },
  {
   "cell_type": "code",
   "execution_count": 10,
   "id": "38d62ae4",
   "metadata": {},
   "outputs": [
    {
     "name": "stdout",
     "output_type": "stream",
     "text": [
      "Will you be at meeting tonight?\n",
      "The second Character of my string is  ?\n"
     ]
    }
   ],
   "source": [
    "print(string_1)\n",
    "\n",
    "print(\"The second Character of my string is \", string_1[-1])"
   ]
  },
  {
   "cell_type": "markdown",
   "id": "dddb91f2",
   "metadata": {},
   "source": [
    "## Slicing\n",
    "\n",
    "```python\n",
    "string[start:stop:step]\n",
    "\n",
    "```\n"
   ]
  },
  {
   "cell_type": "code",
   "execution_count": 11,
   "id": "64d21481",
   "metadata": {},
   "outputs": [
    {
     "name": "stdout",
     "output_type": "stream",
     "text": [
      "Will you be at meeting tonight?\n"
     ]
    },
    {
     "data": {
      "text/plain": [
       "'l o'"
      ]
     },
     "execution_count": 11,
     "metadata": {},
     "output_type": "execute_result"
    }
   ],
   "source": [
    "print(string_1)\n",
    "string_1[2:8:2]"
   ]
  },
  {
   "cell_type": "code",
   "execution_count": 17,
   "id": "10491b11",
   "metadata": {},
   "outputs": [
    {
     "data": {
      "text/plain": [
       "'Will you be at meeting tonight?'"
      ]
     },
     "execution_count": 17,
     "metadata": {},
     "output_type": "execute_result"
    }
   ],
   "source": [
    "string_3 = 'sgsgshhdgddbdndndnndbdbdndd'\n",
    "string_1[::1]"
   ]
  },
  {
   "cell_type": "code",
   "execution_count": 18,
   "id": "3074cbe4",
   "metadata": {},
   "outputs": [
    {
     "name": "stdout",
     "output_type": "stream",
     "text": [
      "Will you be at meeting tonight?\n"
     ]
    },
    {
     "data": {
      "text/plain": [
       "'Wi'"
      ]
     },
     "execution_count": 18,
     "metadata": {},
     "output_type": "execute_result"
    }
   ],
   "source": [
    "print(string_1)\n",
    "string_1[:2]"
   ]
  },
  {
   "cell_type": "code",
   "execution_count": 19,
   "id": "a8c9cf13",
   "metadata": {},
   "outputs": [
    {
     "name": "stdout",
     "output_type": "stream",
     "text": [
      "Will you be at meeting tonight?\n"
     ]
    },
    {
     "data": {
      "text/plain": [
       "'Wl o ea etn oih?'"
      ]
     },
     "execution_count": 19,
     "metadata": {},
     "output_type": "execute_result"
    }
   ],
   "source": [
    "print(string_1)\n",
    "string_1[::2]"
   ]
  },
  {
   "cell_type": "code",
   "execution_count": 20,
   "id": "e9e9a1f7",
   "metadata": {},
   "outputs": [
    {
     "name": "stdout",
     "output_type": "stream",
     "text": [
      "Will you be at meeting tonight?\n"
     ]
    },
    {
     "data": {
      "text/plain": [
       "'l you be at meeting tonight?'"
      ]
     },
     "execution_count": 20,
     "metadata": {},
     "output_type": "execute_result"
    }
   ],
   "source": [
    "print(string_1)\n",
    "string_1[3:]"
   ]
  },
  {
   "cell_type": "code",
   "execution_count": 21,
   "id": "67eb1557",
   "metadata": {},
   "outputs": [
    {
     "name": "stdout",
     "output_type": "stream",
     "text": [
      "Will you be at meeting tonight?\n"
     ]
    },
    {
     "data": {
      "text/plain": [
       "'tgn'"
      ]
     },
     "execution_count": 21,
     "metadata": {},
     "output_type": "execute_result"
    }
   ],
   "source": [
    "print(string_1)\n",
    "string_1[-2:-8:-2]"
   ]
  },
  {
   "cell_type": "code",
   "execution_count": 22,
   "id": "5f9ae56f",
   "metadata": {},
   "outputs": [
    {
     "data": {
      "text/plain": [
       "19"
      ]
     },
     "execution_count": 22,
     "metadata": {},
     "output_type": "execute_result"
    }
   ],
   "source": [
    "len(string_2)"
   ]
  },
  {
   "cell_type": "markdown",
   "id": "0331e60b",
   "metadata": {},
   "source": [
    "#### Concatenation\n"
   ]
  },
  {
   "cell_type": "code",
   "execution_count": 23,
   "id": "d5dab5f3",
   "metadata": {},
   "outputs": [
    {
     "name": "stdout",
     "output_type": "stream",
     "text": [
      "Hello, World\n"
     ]
    }
   ],
   "source": [
    "my_var_1 = \"Hello, \"\n",
    "my_var_2 = 'World'\n",
    "\n",
    "concat = my_var_1 + my_var_2\n",
    "print(concat)"
   ]
  },
  {
   "cell_type": "code",
   "execution_count": 24,
   "id": "6a6957c4",
   "metadata": {},
   "outputs": [
    {
     "name": "stdout",
     "output_type": "stream",
     "text": [
      "Hello, World\n",
      "WorldHello, \n"
     ]
    }
   ],
   "source": [
    "my_var_1 = \"Hello, \"\n",
    "my_var_2 = 'World'\n",
    "\n",
    "concat1 = my_var_2 + my_var_1\n",
    "\n",
    "print(concat)\n",
    "print(concat1)"
   ]
  },
  {
   "cell_type": "code",
   "execution_count": 26,
   "id": "403ef4ee",
   "metadata": {},
   "outputs": [
    {
     "name": "stdout",
     "output_type": "stream",
     "text": [
      "Hello, \n"
     ]
    }
   ],
   "source": [
    "print(my_var_1)\n",
    "#print(my_var_2)"
   ]
  },
  {
   "cell_type": "code",
   "execution_count": 28,
   "id": "49e69d71",
   "metadata": {},
   "outputs": [
    {
     "name": "stdout",
     "output_type": "stream",
     "text": [
      "WorldWorld\n"
     ]
    }
   ],
   "source": [
    "print(2*my_var_2)"
   ]
  },
  {
   "cell_type": "code",
   "execution_count": 30,
   "id": "9ed9ef02",
   "metadata": {},
   "outputs": [
    {
     "ename": "TypeError",
     "evalue": "can't multiply sequence by non-int of type 'float'",
     "output_type": "error",
     "traceback": [
      "\u001b[1;31m---------------------------------------------------------------------------\u001b[0m",
      "\u001b[1;31mTypeError\u001b[0m                                 Traceback (most recent call last)",
      "Cell \u001b[1;32mIn[30], line 1\u001b[0m\n\u001b[1;32m----> 1\u001b[0m \u001b[38;5;28mprint\u001b[39m(\u001b[38;5;241m2.0\u001b[39m\u001b[38;5;241m*\u001b[39mmy_var_2)\n",
      "\u001b[1;31mTypeError\u001b[0m: can't multiply sequence by non-int of type 'float'"
     ]
    }
   ],
   "source": [
    "print(2.0*my_var_2)"
   ]
  },
  {
   "cell_type": "code",
   "execution_count": 31,
   "id": "720135ed",
   "metadata": {},
   "outputs": [
    {
     "data": {
      "text/plain": [
       "True"
      ]
     },
     "execution_count": 31,
     "metadata": {},
     "output_type": "execute_result"
    }
   ],
   "source": [
    "2 == 2.0"
   ]
  },
  {
   "cell_type": "code",
   "execution_count": 33,
   "id": "02e53e63",
   "metadata": {},
   "outputs": [],
   "source": [
    "?my_var_2.capitalize"
   ]
  },
  {
   "cell_type": "code",
   "execution_count": 34,
   "id": "3aa107df",
   "metadata": {},
   "outputs": [
    {
     "data": {
      "text/plain": [
       "<function str.casefold()>"
      ]
     },
     "execution_count": 34,
     "metadata": {},
     "output_type": "execute_result"
    }
   ],
   "source": [
    "my_var_1.casefold"
   ]
  },
  {
   "cell_type": "code",
   "execution_count": 35,
   "id": "6cc1bc37",
   "metadata": {},
   "outputs": [
    {
     "data": {
      "text/plain": [
       "<function str.center(width, fillchar=' ', /)>"
      ]
     },
     "execution_count": 35,
     "metadata": {},
     "output_type": "execute_result"
    }
   ],
   "source": [
    "my_var_2.center"
   ]
  },
  {
   "cell_type": "code",
   "execution_count": 36,
   "id": "f1ff416c",
   "metadata": {},
   "outputs": [
    {
     "data": {
      "text/plain": [
       "<function str.count>"
      ]
     },
     "execution_count": 36,
     "metadata": {},
     "output_type": "execute_result"
    }
   ],
   "source": [
    "my_var_2.count"
   ]
  },
  {
   "cell_type": "code",
   "execution_count": 37,
   "id": "ad3fde9d",
   "metadata": {},
   "outputs": [
    {
     "data": {
      "text/plain": [
       "<function str.encode(encoding='utf-8', errors='strict')>"
      ]
     },
     "execution_count": 37,
     "metadata": {},
     "output_type": "execute_result"
    }
   ],
   "source": [
    "my_var_2.encode"
   ]
  },
  {
   "cell_type": "code",
   "execution_count": 38,
   "id": "4b9c77ac",
   "metadata": {},
   "outputs": [
    {
     "data": {
      "text/plain": [
       "<function str.endswith>"
      ]
     },
     "execution_count": 38,
     "metadata": {},
     "output_type": "execute_result"
    }
   ],
   "source": [
    "my_var_2.endswith"
   ]
  },
  {
   "cell_type": "code",
   "execution_count": 41,
   "id": "f9f16818",
   "metadata": {},
   "outputs": [
    {
     "data": {
      "text/plain": [
       "<function str.expandtabs(tabsize=8)>"
      ]
     },
     "execution_count": 41,
     "metadata": {},
     "output_type": "execute_result"
    }
   ],
   "source": [
    "my_var_2.expandtabs"
   ]
  },
  {
   "cell_type": "code",
   "execution_count": 42,
   "id": "8297064d",
   "metadata": {},
   "outputs": [
    {
     "data": {
      "text/plain": [
       "<function str.find>"
      ]
     },
     "execution_count": 42,
     "metadata": {},
     "output_type": "execute_result"
    }
   ],
   "source": [
    "my_var_2.find"
   ]
  },
  {
   "cell_type": "code",
   "execution_count": 43,
   "id": "825c76d6",
   "metadata": {},
   "outputs": [
    {
     "data": {
      "text/plain": [
       "<function str.format>"
      ]
     },
     "execution_count": 43,
     "metadata": {},
     "output_type": "execute_result"
    }
   ],
   "source": [
    "my_var_2.format"
   ]
  },
  {
   "cell_type": "code",
   "execution_count": 44,
   "id": "3ff4a865",
   "metadata": {},
   "outputs": [
    {
     "data": {
      "text/plain": [
       "<function str.format_map>"
      ]
     },
     "execution_count": 44,
     "metadata": {},
     "output_type": "execute_result"
    }
   ],
   "source": [
    "my_var_2.format_map"
   ]
  },
  {
   "cell_type": "code",
   "execution_count": 45,
   "id": "81cc13ec",
   "metadata": {},
   "outputs": [
    {
     "data": {
      "text/plain": [
       "<function str.casefold()>"
      ]
     },
     "execution_count": 45,
     "metadata": {},
     "output_type": "execute_result"
    }
   ],
   "source": [
    "my_var_1.casefold"
   ]
  },
  {
   "cell_type": "code",
   "execution_count": 46,
   "id": "1103c62a",
   "metadata": {},
   "outputs": [
    {
     "data": {
      "text/plain": [
       "<function str.capitalize()>"
      ]
     },
     "execution_count": 46,
     "metadata": {},
     "output_type": "execute_result"
    }
   ],
   "source": [
    "MyName = \"Elie\"\n",
    "MyName.capitalize"
   ]
  },
  {
   "cell_type": "code",
   "execution_count": 48,
   "id": "3c65e110",
   "metadata": {},
   "outputs": [
    {
     "name": "stdout",
     "output_type": "stream",
     "text": [
      "Object `MyName = \"Elie\"` not found.\n"
     ]
    },
    {
     "data": {
      "text/plain": [
       "<function str.casefold()>"
      ]
     },
     "execution_count": 48,
     "metadata": {},
     "output_type": "execute_result"
    }
   ],
   "source": [
    "?MyName = \"Elie\"\n",
    "MyName.casefold"
   ]
  },
  {
   "cell_type": "code",
   "execution_count": 49,
   "id": "65109ac9",
   "metadata": {},
   "outputs": [
    {
     "data": {
      "text/plain": [
       "<function str.count>"
      ]
     },
     "execution_count": 49,
     "metadata": {},
     "output_type": "execute_result"
    }
   ],
   "source": [
    "MyName = \"Elie\"\n",
    "MyName.count"
   ]
  },
  {
   "cell_type": "code",
   "execution_count": 50,
   "id": "6b158056",
   "metadata": {},
   "outputs": [
    {
     "name": "stdout",
     "output_type": "stream",
     "text": [
      "Object `MyName = \"Elie\"` not found.\n"
     ]
    },
    {
     "data": {
      "text/plain": [
       "<function str.count>"
      ]
     },
     "execution_count": 50,
     "metadata": {},
     "output_type": "execute_result"
    }
   ],
   "source": [
    "?MyName = \"Elie\"\n",
    "MyName.count"
   ]
  },
  {
   "cell_type": "code",
   "execution_count": 51,
   "id": "1cbf57ef",
   "metadata": {},
   "outputs": [
    {
     "data": {
      "text/plain": [
       "<function str.encode(encoding='utf-8', errors='strict')>"
      ]
     },
     "execution_count": 51,
     "metadata": {},
     "output_type": "execute_result"
    }
   ],
   "source": [
    "MyName = \"Elie\"\n",
    "MyName.encode"
   ]
  },
  {
   "cell_type": "code",
   "execution_count": 58,
   "id": "52fecec4",
   "metadata": {},
   "outputs": [
    {
     "data": {
      "text/plain": [
       "<function str.count>"
      ]
     },
     "execution_count": 58,
     "metadata": {},
     "output_type": "execute_result"
    }
   ],
   "source": [
    "MyName =\"Elie\"\n",
    "MyName.count"
   ]
  },
  {
   "cell_type": "code",
   "execution_count": 59,
   "id": "d4ad9082",
   "metadata": {},
   "outputs": [
    {
     "data": {
      "text/plain": [
       "False"
      ]
     },
     "execution_count": 59,
     "metadata": {},
     "output_type": "execute_result"
    }
   ],
   "source": [
    "MyName.capitalize == MyName.title()"
   ]
  },
  {
   "cell_type": "code",
   "execution_count": 64,
   "id": "bf49453c",
   "metadata": {},
   "outputs": [
    {
     "data": {
      "text/plain": [
       "False"
      ]
     },
     "execution_count": 64,
     "metadata": {},
     "output_type": "execute_result"
    }
   ],
   "source": [
    "MyName.casefold == MyName.casefold()\n"
   ]
  },
  {
   "cell_type": "code",
   "execution_count": 69,
   "id": "e9652301",
   "metadata": {},
   "outputs": [
    {
     "name": "stdout",
     "output_type": "stream",
     "text": [
      "Object `MyName.center == MyName(1,2)` not found.\n"
     ]
    }
   ],
   "source": [
    "?MyName.center == MyName(1,2)"
   ]
  },
  {
   "cell_type": "code",
   "execution_count": 73,
   "id": "8aa95037",
   "metadata": {},
   "outputs": [
    {
     "data": {
      "text/plain": [
       "False"
      ]
     },
     "execution_count": 73,
     "metadata": {},
     "output_type": "execute_result"
    }
   ],
   "source": [
    "my_var_2.capitalize == my_var_2.title()"
   ]
  },
  {
   "cell_type": "code",
   "execution_count": 74,
   "id": "1d85bf86",
   "metadata": {},
   "outputs": [
    {
     "data": {
      "text/plain": [
       "'                      World                       '"
      ]
     },
     "execution_count": 74,
     "metadata": {},
     "output_type": "execute_result"
    }
   ],
   "source": [
    "my_var_2.center(50)"
   ]
  },
  {
   "cell_type": "code",
   "execution_count": 81,
   "id": "876567c4",
   "metadata": {},
   "outputs": [
    {
     "data": {
      "text/plain": [
       "'World'"
      ]
     },
     "execution_count": 81,
     "metadata": {},
     "output_type": "execute_result"
    }
   ],
   "source": [
    "my_var_2.format()"
   ]
  },
  {
   "cell_type": "code",
   "execution_count": 86,
   "id": "7644e618",
   "metadata": {},
   "outputs": [
    {
     "data": {
      "text/plain": [
       "'Hello, '"
      ]
     },
     "execution_count": 86,
     "metadata": {},
     "output_type": "execute_result"
    }
   ],
   "source": [
    "my_var_1.format_map(my_var_1)"
   ]
  },
  {
   "cell_type": "code",
   "execution_count": 87,
   "id": "3baa8221",
   "metadata": {},
   "outputs": [
    {
     "data": {
      "text/plain": [
       "'World'"
      ]
     },
     "execution_count": 87,
     "metadata": {},
     "output_type": "execute_result"
    }
   ],
   "source": [
    "my_var_2.expandtabs()"
   ]
  },
  {
   "cell_type": "code",
   "execution_count": 91,
   "id": "cba5b7fd",
   "metadata": {},
   "outputs": [
    {
     "data": {
      "text/plain": [
       "'World'"
      ]
     },
     "execution_count": 91,
     "metadata": {},
     "output_type": "execute_result"
    }
   ],
   "source": [
    "my_var_2.capitalize()"
   ]
  },
  {
   "cell_type": "code",
   "execution_count": 92,
   "id": "dc6fd471",
   "metadata": {},
   "outputs": [
    {
     "data": {
      "text/plain": [
       "'world'"
      ]
     },
     "execution_count": 92,
     "metadata": {},
     "output_type": "execute_result"
    }
   ],
   "source": [
    "my_var_2.casefold()"
   ]
  },
  {
   "cell_type": "code",
   "execution_count": 95,
   "id": "0357c8d9",
   "metadata": {},
   "outputs": [
    {
     "data": {
      "text/plain": [
       "'hello, '"
      ]
     },
     "execution_count": 95,
     "metadata": {},
     "output_type": "execute_result"
    }
   ],
   "source": [
    "my_var_1.casefold()"
   ]
  },
  {
   "cell_type": "code",
   "execution_count": 97,
   "id": "d00c0ae9",
   "metadata": {},
   "outputs": [
    {
     "data": {
      "text/plain": [
       "'                                               World                                                '"
      ]
     },
     "execution_count": 97,
     "metadata": {},
     "output_type": "execute_result"
    }
   ],
   "source": [
    "my_var_2.center(100)"
   ]
  },
  {
   "cell_type": "code",
   "execution_count": 109,
   "id": "924be198",
   "metadata": {},
   "outputs": [
    {
     "ename": "SyntaxError",
     "evalue": "unmatched ')' (1405623808.py, line 2)",
     "output_type": "error",
     "traceback": [
      "\u001b[1;36m  Cell \u001b[1;32mIn[109], line 2\u001b[1;36m\u001b[0m\n\u001b[1;33m    print(may_var_2.center(i)))\u001b[0m\n\u001b[1;37m                              ^\u001b[0m\n\u001b[1;31mSyntaxError\u001b[0m\u001b[1;31m:\u001b[0m unmatched ')'\n"
     ]
    }
   ],
   "source": [
    "for i in range (50) :\n",
    "print(may_var_2.center(i))"
   ]
  },
  {
   "cell_type": "markdown",
   "id": "217c3968",
   "metadata": {},
   "source": [
    "### testfile.txt"
   ]
  },
  {
   "cell_type": "code",
   "execution_count": null,
   "id": "021bc1f5",
   "metadata": {},
   "outputs": [],
   "source": [
    "fghij\n",
    "aims class\n",
    "Rwanda 2025\n",
    "this is really cool"
   ]
  },
  {
   "cell_type": "code",
   "execution_count": null,
   "id": "172f7ab8",
   "metadata": {},
   "outputs": [],
   "source": [
    "# %load testfile.txt\n",
    "hello elie '\\n' python class 2025\n"
   ]
  },
  {
   "cell_type": "code",
   "execution_count": 2,
   "id": "0f1868a3",
   "metadata": {},
   "outputs": [
    {
     "data": {
      "text/plain": [
       "<_io.TextIOWrapper name='testfile.txt' mode='r' encoding='cp1252'>"
      ]
     },
     "execution_count": 2,
     "metadata": {},
     "output_type": "execute_result"
    }
   ],
   "source": [
    "write_in_file=open(\"testfile.txt\",'r')\n",
    "write_in_file"
   ]
  },
  {
   "cell_type": "code",
   "execution_count": 3,
   "id": "637984f9",
   "metadata": {},
   "outputs": [],
   "source": [
    "write_in_file = open(\"testfile.txt\", \"w\")\n",
    "write_in_file.write(\"Hello, world!\\n\")\n",
    "write_in_file.write(\"This is written using Python.\\n\")\n",
    "write_in_file.close()"
   ]
  },
  {
   "cell_type": "code",
   "execution_count": 4,
   "id": "368f369a",
   "metadata": {},
   "outputs": [
    {
     "data": {
      "text/plain": [
       "<_io.TextIOWrapper name='testfile.txt' mode='w' encoding='cp1252'>"
      ]
     },
     "execution_count": 4,
     "metadata": {},
     "output_type": "execute_result"
    }
   ],
   "source": [
    "write_in_file"
   ]
  },
  {
   "cell_type": "code",
   "execution_count": null,
   "id": "20afebcd",
   "metadata": {},
   "outputs": [],
   "source": [
    "# %load testfile.txt\n",
    "Hello, world!\n",
    "This is written using Python.\n"
   ]
  },
  {
   "cell_type": "code",
   "execution_count": null,
   "id": "39059c30",
   "metadata": {},
   "outputs": [],
   "source": []
  }
 ],
 "metadata": {
  "kernelspec": {
   "display_name": "Python 3 (ipykernel)",
   "language": "python",
   "name": "python3"
  },
  "language_info": {
   "codemirror_mode": {
    "name": "ipython",
    "version": 3
   },
   "file_extension": ".py",
   "mimetype": "text/x-python",
   "name": "python",
   "nbconvert_exporter": "python",
   "pygments_lexer": "ipython3",
   "version": "3.11.7"
  }
 },
 "nbformat": 4,
 "nbformat_minor": 5
}
